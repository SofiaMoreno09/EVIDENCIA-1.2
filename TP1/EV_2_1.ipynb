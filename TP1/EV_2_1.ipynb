{
  "nbformat": 4,
  "nbformat_minor": 0,
  "metadata": {
    "colab": {
      "provenance": [],
      "authorship_tag": "ABX9TyPbVgENI53KwuInRa4UCzFK",
      "include_colab_link": true
    },
    "kernelspec": {
      "name": "python3",
      "display_name": "Python 3"
    },
    "language_info": {
      "name": "python"
    }
  },
  "cells": [
    {
      "cell_type": "markdown",
      "metadata": {
        "id": "view-in-github",
        "colab_type": "text"
      },
      "source": [
        "<a href=\"https://colab.research.google.com/github/SofiaMoreno09/EVIDENCIA-1.2/blob/main/TP1/EV_2_1.ipynb\" target=\"_parent\"><img src=\"https://colab.research.google.com/assets/colab-badge.svg\" alt=\"Open In Colab\"/></a>"
      ]
    },
    {
      "cell_type": "markdown",
      "source": [
        "Problema 1:\n",
        "Implementaremos una clase llamada Persona que tendrá como atributo (variable) su nombre y dos métodos (funciones), uno de dichos métodos inicializará el atributo nombre y el siguiente método mostrará en la pantalla el contenido del mismo.\n",
        "\n",
        "Definir dos objetos de la clase Persona."
      ],
      "metadata": {
        "id": "RVS2yDzaB68r"
      }
    },
    {
      "cell_type": "code",
      "source": [
        "class Persona:\n",
        "\n",
        "    def inicializar(self,nom):\n",
        "        self.nombre=nom\n",
        "\n",
        "    def imprimir(self):\n",
        "        print(\"Nombre\",self.nombre)\n",
        "\n",
        "\n",
        "# bloque principal\n",
        "\n",
        "persona1=Persona()\n",
        "persona1.inicializar(\"Sofia\")\n",
        "persona1.imprimir()\n",
        "\n",
        "persona2=Persona()\n",
        "persona2.inicializar(\"Carolina\")\n",
        "persona2.imprimir()"
      ],
      "metadata": {
        "colab": {
          "base_uri": "https://localhost:8080/"
        },
        "id": "X_qiw7ZqCDNS",
        "outputId": "397d3378-b78f-4505-9d49-3c599a934bf3"
      },
      "execution_count": 2,
      "outputs": [
        {
          "output_type": "stream",
          "name": "stdout",
          "text": [
            "Nombre Sofia\n",
            "Nombre Carolina\n"
          ]
        }
      ]
    },
    {
      "cell_type": "markdown",
      "source": [
        "Los métodos de una clase se definen utilizando la misma sintaxis que para la definición de funciones.\n",
        "\n",
        "Como veremos todo método tiene como primer parámetro el identificador self que tiene la referencia del objeto que llamó al método.\n",
        "\n",
        "Luego dentro del método diferenciamos los atributos del objeto antecediendo el identificador self:"
      ],
      "metadata": {
        "id": "8nBl7wGqCpic"
      }
    },
    {
      "cell_type": "code",
      "source": [
        "self.nombre=nom"
      ],
      "metadata": {
        "id": "2cZIeVlSCrIH"
      },
      "execution_count": null,
      "outputs": []
    },
    {
      "cell_type": "markdown",
      "source": [
        "Con la asignación previa almacenamos en el atributo nombre el parámetro nom, los atributos siguen existiendo cuando finaliza la ejecución del método. Por ello cuando se ejecuta el método imprimir podemos mostrar el nombre que cargamos en el primer método.\n",
        "\n",
        "Decíamos que una clase es un molde que nos permite definir objetos. Ahora veamos cual es la sintaxis para la creación de objetos de la clase Persona:"
      ],
      "metadata": {
        "id": "WWc3G6OFCtZ-"
      }
    },
    {
      "cell_type": "code",
      "source": [
        "# bloque principal\n",
        "\n",
        "persona1=Persona()\n",
        "persona1.inicializar(\"Sofia\")\n",
        "persona1.imprimir()\n",
        "\n",
        "persona2=Persona()\n",
        "persona2.inicializar(\"Carolina\")\n",
        "persona2.imprimir()"
      ],
      "metadata": {
        "id": "kdFnA6nQCwiM"
      },
      "execution_count": null,
      "outputs": []
    },
    {
      "cell_type": "markdown",
      "source": [
        "Definimos un objeto llamado persona1 y lo creamos asignándole el nombre de la clase con paréntesis abierto y cerrado al final (como cuando llamamos a una función)\n",
        "\n",
        "Luego para llamar a los métodos debemos disponer luego del nombre del objeto el operador . y por último el nombre del método (función)\n",
        "\n",
        "En el caso que tenga parámetros se los enviamos (salvo el primer parámetro (self) que el mismo Python se encarga de enviar la referencia del objeto que se creó):"
      ],
      "metadata": {
        "id": "rgPOqllmCzun"
      }
    },
    {
      "cell_type": "code",
      "source": [
        "persona1.inicializar(\"Sofia\")\n"
      ],
      "metadata": {
        "id": "zY2zw-5kC368"
      },
      "execution_count": null,
      "outputs": []
    },
    {
      "cell_type": "markdown",
      "source": [
        "También podemos definir tantos objetos de la clase Persona como sean necesarios para nuestro algoritmo:"
      ],
      "metadata": {
        "id": "RvoREOV5C6wA"
      }
    },
    {
      "cell_type": "code",
      "source": [
        "persona2=Persona()\n",
        "persona2.inicializar(\"Carolina\")\n",
        "persona2.imprimir()"
      ],
      "metadata": {
        "id": "A5-NPb2TDACS"
      },
      "execution_count": null,
      "outputs": []
    },
    {
      "cell_type": "markdown",
      "source": [
        "Problema 2:\n",
        "Implementar una clase llamada Alumno que tenga como atributos su nombre y su nota. Definir los métodos para inicializar sus atributos, imprimirlos y mostrar un mensaje si está regular (nota mayor o igual a 4)\n",
        "\n",
        "Definir dos objetos de la clase Alumno."
      ],
      "metadata": {
        "id": "6Wapnu4EDdw0"
      }
    },
    {
      "cell_type": "code",
      "source": [
        "class Alumno:\n",
        "\n",
        "    def inicializar(self,nombre,nota):\n",
        "        self.nombre=nombre\n",
        "        self.nota=nota\n",
        "\n",
        "    def imprimir(self):\n",
        "        print(\"Nombre:\",self.nombre)\n",
        "        print(\"Nota:\",self.nota)\n",
        "\n",
        "    def mostrar_estado(self):\n",
        "        if self.nota>=4:\n",
        "            print(\"Regular\")\n",
        "        else:\n",
        "            print(\"Libre\")\n",
        "\n",
        "\n",
        "# bloque principal\n",
        "\n",
        "alumno1=Alumno()\n",
        "alumno1.inicializar(\"Juan\",2)\n",
        "alumno1.imprimir()\n",
        "alumno1.mostrar_estado()\n",
        "\n",
        "alumno2=Alumno()\n",
        "alumno2.inicializar(\"Mia\",10)\n",
        "alumno2.imprimir()\n",
        "alumno2.mostrar_estado()"
      ],
      "metadata": {
        "colab": {
          "base_uri": "https://localhost:8080/"
        },
        "id": "u_6yf8RpDg8o",
        "outputId": "c76186ea-6496-4aae-abdf-5dc3542fe451"
      },
      "execution_count": 3,
      "outputs": [
        {
          "output_type": "stream",
          "name": "stdout",
          "text": [
            "Nombre: Juan\n",
            "Nota: 2\n",
            "Libre\n",
            "Nombre: Mia\n",
            "Nota: 10\n",
            "Regular\n"
          ]
        }
      ]
    },
    {
      "cell_type": "markdown",
      "source": [
        "Declaramos la clase Alumno y definimos sus tres métodos, en el método inicializar llegan como parámetros a parte del self el nombre y nota del alumno:"
      ],
      "metadata": {
        "id": "phBtigWID0TL"
      }
    },
    {
      "cell_type": "code",
      "source": [
        "def inicializar(self,nombre,nota):\n",
        "        self.nombre=nombre\n",
        "        self.nota=nota"
      ],
      "metadata": {
        "id": "Kjh3JqU4D3BI"
      },
      "execution_count": null,
      "outputs": []
    },
    {
      "cell_type": "markdown",
      "source": [
        "No hay problema que los atributos se llamen iguales a los parámetros ya que siempre hay que anteceder la palabra \"self\" al nombre del atributo:"
      ],
      "metadata": {
        "id": "OEzN4X_mD5pE"
      }
    },
    {
      "cell_type": "code",
      "source": [
        "  self.nombre=nombre"
      ],
      "metadata": {
        "id": "WNW0e0EYD8JS"
      },
      "execution_count": null,
      "outputs": []
    },
    {
      "cell_type": "markdown",
      "source": [
        "Tener en cuenta que cuando se crean los atributos en el método inicializar luego podemos acceder a los mismos en los otros métodos de la clase, por ejemplo en el método mostrar_estado verificamos el valor almacenado en el atributo nota:"
      ],
      "metadata": {
        "id": "KqfURHhDD_jW"
      }
    },
    {
      "cell_type": "code",
      "source": [
        "def mostrar_estado(self):\n",
        "        if self.nota>=4:\n",
        "            print(\"Regular\")\n",
        "        else:\n",
        "            print(\"Libre\")"
      ],
      "metadata": {
        "id": "pP4ftKL7EC2j"
      },
      "execution_count": null,
      "outputs": []
    },
    {
      "cell_type": "markdown",
      "source": [
        "Decimos que una clase es un molde que nos permite crear luego objetos de dicha clase, en este problema el molde Alumno lo utilizamos para crear dos objetos de dicha clase:"
      ],
      "metadata": {
        "id": "g9HUGAOjEGje"
      }
    },
    {
      "cell_type": "code",
      "source": [
        "# bloque principal\n",
        "\n",
        "alumno1=Alumno()\n",
        "alumno1.inicializar(\"Juan\",2)\n",
        "alumno1.imprimir()\n",
        "alumno1.mostrar_estado()\n",
        "\n",
        "alumno2=Alumno()\n",
        "alumno2.inicializar(\"Mia\",10)\n",
        "alumno2.imprimir()\n",
        "alumno2.mostrar_estado()"
      ],
      "metadata": {
        "id": "OG_rddylEJNZ"
      },
      "execution_count": null,
      "outputs": []
    },
    {
      "cell_type": "markdown",
      "source": [
        "Problemas propuestos:\n",
        "\n",
        "---\n",
        "\n",
        "\n",
        "Confeccionar una clase que permita carga el nombre y la edad de una persona. Mostrar los datos cargados. Imprimir un mensaje si es mayor de edad (edad>=18)"
      ],
      "metadata": {
        "id": "lBhwXDG6ETPk"
      }
    },
    {
      "cell_type": "code",
      "source": [
        "class Persona:\n",
        "    def __init__(self, nombre, edad):\n",
        "        self.nombre = nombre\n",
        "        self.edad = edad\n",
        "\n",
        "    def mostrar_datos(self):\n",
        "        print(f\"Nombre: {self.nombre}, Edad: {self.edad}\")\n",
        "\n",
        "    def es_mayor_de_edad(self):\n",
        "        if self.edad >= 18:\n",
        "            print(\"Es mayor de edad.\")\n",
        "        else:\n",
        "            print(\"No es mayor de edad.\")\n",
        "\n",
        "# Ejemplo de uso\n",
        "nombre_persona = input(\"Ingrese el nombre de la persona: \")\n",
        "edad_persona = int(input(\"Ingrese la edad de la persona: \"))\n",
        "\n",
        "persona = Persona(nombre_persona, edad_persona)\n",
        "persona.mostrar_datos()\n",
        "persona.es_mayor_de_edad()"
      ],
      "metadata": {
        "colab": {
          "base_uri": "https://localhost:8080/"
        },
        "id": "I3AdJXXvGwwe",
        "outputId": "d8b92b12-5735-4717-c476-268da0910eb7"
      },
      "execution_count": 4,
      "outputs": [
        {
          "output_type": "stream",
          "name": "stdout",
          "text": [
            "Ingrese el nombre de la persona: Alexa\n",
            "Ingrese la edad de la persona: 17\n",
            "Nombre: Alexa, Edad: 17\n",
            "No es mayor de edad.\n"
          ]
        }
      ]
    },
    {
      "cell_type": "markdown",
      "source": [
        "2. Desarrollar un programa que cargue los lados de un triángulo e implemente los siguientes métodos: inicializar los atributos, imprimir el valor del lado mayor y otro método que muestre si es equilátero o no. El nombre de la clase llamarla Triangulo."
      ],
      "metadata": {
        "id": "lVpD6-EWHNkp"
      }
    },
    {
      "cell_type": "code",
      "source": [
        "class Triangulo:\n",
        "    def __init__(self, lado1, lado2, lado3):\n",
        "        self.lado1 = lado1\n",
        "        self.lado2 = lado2\n",
        "        self.lado3 = lado3\n",
        "\n",
        "    def imprimir_lado_mayor(self):\n",
        "        mayor = max(self.lado1, self.lado2, self.lado3)\n",
        "        print(f\"El lado mayor es: {mayor}\")\n",
        "\n",
        "    def es_equilatero(self):\n",
        "        if self.lado1 == self.lado2 == self.lado3:\n",
        "            print(\"El triángulo es equilátero.\")\n",
        "        else:\n",
        "            print(\"El triángulo no es equilátero.\")\n",
        "\n",
        "# Ejemplo de uso\n",
        "lado1 = float(input(\"Ingrese el primer lado del triángulo: \"))\n",
        "lado2 = float(input(\"Ingrese el segundo lado del triángulo: \"))\n",
        "lado3 = float(input(\"Ingrese el tercer lado del triángulo: \"))\n",
        "\n",
        "triangulo = Triangulo(lado1, lado2, lado3)\n",
        "triangulo.imprimir_lado_mayor()\n",
        "triangulo.es_equilatero()"
      ],
      "metadata": {
        "colab": {
          "base_uri": "https://localhost:8080/"
        },
        "id": "3VT38-e3HTxc",
        "outputId": "3175526a-f9b7-4edb-8309-24e2c19e0bef"
      },
      "execution_count": 5,
      "outputs": [
        {
          "output_type": "stream",
          "name": "stdout",
          "text": [
            "Ingrese el primer lado del triángulo: 10\n",
            "Ingrese el segundo lado del triángulo: 12\n",
            "Ingrese el tercer lado del triángulo: 10\n",
            "El lado mayor es: 12.0\n",
            "El triángulo no es equilátero.\n"
          ]
        }
      ]
    }
  ]
}